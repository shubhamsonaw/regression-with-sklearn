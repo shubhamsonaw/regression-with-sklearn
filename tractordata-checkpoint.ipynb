{
 "cells": [
  {
   "cell_type": "code",
   "execution_count": 1,
   "id": "1854f926-5176-48f5-a502-1f6ef232a794",
   "metadata": {},
   "outputs": [
    {
     "name": "stdout",
     "output_type": "stream",
     "text": [
      "linear regression\n",
      "mine -> w: 19.142541171061957 b: 3.0956984426794283\n",
      "mse(mine): 1.7443371561382741\n"
     ]
    }
   ],
   "source": [
    "import numpy as np\n",
    "from sklearn.linear_model import LinearRegression, LogisticRegression\n",
    "from sklearn.metrics import mean_squared_error, accuracy_score\n",
    "\n",
    "# linear regression\n",
    "\n",
    "print(\"linear regression\")\n",
    "\n",
    "X = np.array([1,2,3,4,5])   # no of hours tractor drivern by dad\n",
    "y = np.array([20,40,60,80,100])  # car speed(km/h)\n",
    "\n",
    "# regression(numpy)\n",
    "w = 0\n",
    "b = 0\n",
    "lr = 0.01\n",
    "epochs = 150  \n",
    "\n",
    "for i in range(epochs):\n",
    "    y_pred = w*X + b\n",
    "    error = y - y_pred\n",
    "    dw = -(2/len(X)) * sum(X*error)\n",
    "    db = -(2/len(X)) * sum(error)\n",
    "    w = w - lr*dw\n",
    "    b = b - lr*db\n",
    "\n",
    "y_final = w*X + b\n",
    "mse_mine = mean_squared_error(y, y_final)\n",
    "\n",
    "print(\"mine -> w:\", w, \"b:\", b)\n",
    "print(\"mse(mine):\", mse_mine)"
   ]
  },
  {
   "cell_type": "code",
   "execution_count": 2,
   "id": "030075de-517d-493c-bef1-bc172acff07c",
   "metadata": {},
   "outputs": [
    {
     "name": "stdout",
     "output_type": "stream",
     "text": [
      "sklearn -> w: 19.999999999999996 b: 1.4210854715202004e-14\n",
      "mse (sklearn): 3.281661365719409e-29\n"
     ]
    }
   ],
   "source": [
    "# sklearn\n",
    "X2 = X.reshape(-1,1)\n",
    "reg = LinearRegression()\n",
    "reg.fit(X2,y)\n",
    "y2 = reg.predict(X2)\n",
    "mse_sklearn = mean_squared_error(y,y2)\n",
    "\n",
    "print(\"sklearn -> w:\", reg.coef_[0], \"b:\", reg.intercept_)\n",
    "print(\"mse (sklearn):\", mse_sklearn)"
   ]
  },
  {
   "cell_type": "code",
   "execution_count": 3,
   "id": "38384626-92dd-4060-a75e-9eb81c1e8f3d",
   "metadata": {},
   "outputs": [
    {
     "name": "stdout",
     "output_type": "stream",
     "text": [
      "\n",
      "logistic regression\n",
      "mine -> w: 0.47897072904152954 b: -1.3734503225187362\n",
      "accuracy (mine): 0.8\n"
     ]
    }
   ],
   "source": [
    "# logistic regression\n",
    "print(\"\\nlogistic regression\")\n",
    "\n",
    "X = np.array([1,2,3,4,5])   # no of hours tractor driven by dad\n",
    "y = np.array([0,0,0,1,1])   # tired/not tired\n",
    "\n",
    "def sigmoid(z):\n",
    "    return 1/(1+np.exp(-z))\n",
    "\n",
    "w = 0\n",
    "b = 0\n",
    "lr = 0.05\n",
    "epochs = 200\n",
    "\n",
    "for i in range(epochs):\n",
    "    z = w*X + b\n",
    "    y_pred = sigmoid(z)\n",
    "    error = y - y_pred\n",
    "    dw = -(1/len(X)) * sum(X*error)\n",
    "    db = -(1/len(X)) * sum(error)\n",
    "    w = w - lr*dw\n",
    "    b = b - lr*db\n",
    "\n",
    "pred_probs = sigmoid(w*X + b)\n",
    "preds = (pred_probs >= 0.5).astype(int)\n",
    "acc_mine = accuracy_score(y,preds)\n",
    "\n",
    "print(\"mine -> w:\", w, \"b:\", b)\n",
    "print(\"accuracy (mine):\", acc_mine)"
   ]
  },
  {
   "cell_type": "code",
   "execution_count": 4,
   "id": "5946b9ef-25cb-451a-8b10-9a798ce0c208",
   "metadata": {},
   "outputs": [
    {
     "name": "stdout",
     "output_type": "stream",
     "text": [
      "sklearn -> w: 1.0470438047457904 b: -3.7481774320466807\n",
      "accuracy (sklearn): 1.0\n"
     ]
    }
   ],
   "source": [
    "# sklearn\n",
    "X2 = X.reshape(-1,1)\n",
    "clf = LogisticRegression()\n",
    "clf.fit(X2,y)\n",
    "preds2 = clf.predict(X2)\n",
    "acc_sklearn = accuracy_score(y,preds2)\n",
    "\n",
    "print(\"sklearn -> w:\", clf.coef_[0][0], \"b:\", clf.intercept_[0])\n",
    "print(\"accuracy (sklearn):\", acc_sklearn)"
   ]
  },
  {
   "cell_type": "code",
   "execution_count": null,
   "id": "8d5c8865-5cdc-493c-86e3-0279e7ced92b",
   "metadata": {},
   "outputs": [],
   "source": []
  }
 ],
 "metadata": {
  "kernelspec": {
   "display_name": "Python 3 (ipykernel)",
   "language": "python",
   "name": "python3"
  },
  "language_info": {
   "codemirror_mode": {
    "name": "ipython",
    "version": 3
   },
   "file_extension": ".py",
   "mimetype": "text/x-python",
   "name": "python",
   "nbconvert_exporter": "python",
   "pygments_lexer": "ipython3",
   "version": "3.13.3"
  }
 },
 "nbformat": 4,
 "nbformat_minor": 5
}
